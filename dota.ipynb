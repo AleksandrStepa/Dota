{
 "cells": [
  {
   "cell_type": "code",
   "execution_count": 108,
   "metadata": {},
   "outputs": [],
   "source": [
    "import pandas as pd\n",
    "import numpy as np\n",
    "from sklearn.ensemble import GradientBoostingClassifier, GradientBoostingRegressor, RandomForestClassifier\n",
    "from sklearn.linear_model import LogisticRegression\n",
    "from sklearn.model_selection import GridSearchCV\n",
    "from sklearn.model_selection import KFold\n",
    "from sklearn import preprocessing\n",
    "from sklearn.model_selection import cross_val_score\n",
    "from sklearn.metrics import roc_auc_score\n",
    "from sklearn.preprocessing import normalize\n",
    "from sklearn.metrics import SCORERS"
   ]
  },
  {
   "cell_type": "code",
   "execution_count": 3,
   "metadata": {},
   "outputs": [],
   "source": [
    "df_features = pd.read_csv('features.csv')\n",
    "df_features_test = pd.read_csv('features_test.csv')"
   ]
  },
  {
   "cell_type": "code",
   "execution_count": 200,
   "metadata": {},
   "outputs": [
    {
     "data": {
      "text/plain": [
       "(17177, 103)"
      ]
     },
     "execution_count": 200,
     "metadata": {},
     "output_type": "execute_result"
    }
   ],
   "source": [
    "df_features_test.shape"
   ]
  },
  {
   "cell_type": "code",
   "execution_count": 49,
   "metadata": {},
   "outputs": [
    {
     "data": {
      "text/plain": [
       "(97230, 109)"
      ]
     },
     "execution_count": 49,
     "metadata": {},
     "output_type": "execute_result"
    }
   ],
   "source": [
    "df_features.shape"
   ]
  },
  {
   "cell_type": "markdown",
   "metadata": {},
   "source": [
    "# Подготовка данных для бустинга"
   ]
  },
  {
   "cell_type": "markdown",
   "metadata": {},
   "source": [
    "### Преобразование каждого столбца с видом героя в подмасив, где в шапке виды героев, а в ячейке  \n",
    "### \"0\" или \"1\" есть герой такого типа или нет"
   ]
  },
  {
   "cell_type": "code",
   "execution_count": 4,
   "metadata": {},
   "outputs": [],
   "source": [
    "r1_hero = pd.get_dummies(df_features['r1_hero'])\n",
    "r1_hero.columns = ['r1_hero_' + str(name) for name in r1_hero.columns ]\n",
    "r2_hero = pd.get_dummies(df_features['r2_hero'])\n",
    "r2_hero.columns = ['r2_hero_' + str(name) for name in r2_hero.columns ]\n",
    "r3_hero = pd.get_dummies(df_features['r3_hero'])\n",
    "r3_hero.columns = ['r3_hero_' + str(name) for name in r3_hero.columns ]\n",
    "r4_hero = pd.get_dummies(df_features['r4_hero'])\n",
    "r4_hero.columns = ['r4_hero_' + str(name) for name in r4_hero.columns ]\n",
    "r5_hero = pd.get_dummies(df_features['r5_hero'])\n",
    "r5_hero.columns = ['r5_hero_' + str(name) for name in r5_hero.columns ]\n",
    "d1_hero = pd.get_dummies(df_features['d1_hero'])\n",
    "d1_hero.columns = ['d1_hero_' + str(name) for name in d1_hero.columns ]\n",
    "d2_hero = pd.get_dummies(df_features['d2_hero'])\n",
    "d2_hero.columns = ['d2_hero_' + str(name) for name in d2_hero.columns ]\n",
    "d3_hero = pd.get_dummies(df_features['d3_hero'])\n",
    "d3_hero.columns = ['d3_hero_' + str(name) for name in d3_hero.columns ]\n",
    "d4_hero = pd.get_dummies(df_features['d4_hero'])\n",
    "d4_hero.columns = ['d4_hero_' + str(name) for name in d4_hero.columns ]\n",
    "d5_hero = pd.get_dummies(df_features['d5_hero'])\n",
    "d5_hero.columns = ['d5_hero_' + str(name) for name in d5_hero.columns ]"
   ]
  },
  {
   "cell_type": "code",
   "execution_count": 5,
   "metadata": {},
   "outputs": [
    {
     "data": {
      "text/html": [
       "<div>\n",
       "<style scoped>\n",
       "    .dataframe tbody tr th:only-of-type {\n",
       "        vertical-align: middle;\n",
       "    }\n",
       "\n",
       "    .dataframe tbody tr th {\n",
       "        vertical-align: top;\n",
       "    }\n",
       "\n",
       "    .dataframe thead th {\n",
       "        text-align: right;\n",
       "    }\n",
       "</style>\n",
       "<table border=\"1\" class=\"dataframe\">\n",
       "  <thead>\n",
       "    <tr style=\"text-align: right;\">\n",
       "      <th></th>\n",
       "      <th>r1_hero_1</th>\n",
       "      <th>r1_hero_2</th>\n",
       "      <th>r1_hero_3</th>\n",
       "      <th>r1_hero_4</th>\n",
       "      <th>r1_hero_5</th>\n",
       "      <th>r1_hero_6</th>\n",
       "      <th>r1_hero_7</th>\n",
       "      <th>r1_hero_8</th>\n",
       "      <th>r1_hero_9</th>\n",
       "      <th>r1_hero_10</th>\n",
       "      <th>...</th>\n",
       "      <th>r1_hero_100</th>\n",
       "      <th>r1_hero_101</th>\n",
       "      <th>r1_hero_102</th>\n",
       "      <th>r1_hero_103</th>\n",
       "      <th>r1_hero_104</th>\n",
       "      <th>r1_hero_105</th>\n",
       "      <th>r1_hero_106</th>\n",
       "      <th>r1_hero_109</th>\n",
       "      <th>r1_hero_110</th>\n",
       "      <th>r1_hero_112</th>\n",
       "    </tr>\n",
       "  </thead>\n",
       "  <tbody>\n",
       "    <tr>\n",
       "      <th>0</th>\n",
       "      <td>0</td>\n",
       "      <td>0</td>\n",
       "      <td>0</td>\n",
       "      <td>0</td>\n",
       "      <td>0</td>\n",
       "      <td>0</td>\n",
       "      <td>0</td>\n",
       "      <td>0</td>\n",
       "      <td>0</td>\n",
       "      <td>0</td>\n",
       "      <td>...</td>\n",
       "      <td>0</td>\n",
       "      <td>0</td>\n",
       "      <td>0</td>\n",
       "      <td>0</td>\n",
       "      <td>0</td>\n",
       "      <td>0</td>\n",
       "      <td>0</td>\n",
       "      <td>0</td>\n",
       "      <td>0</td>\n",
       "      <td>0</td>\n",
       "    </tr>\n",
       "    <tr>\n",
       "      <th>1</th>\n",
       "      <td>0</td>\n",
       "      <td>0</td>\n",
       "      <td>0</td>\n",
       "      <td>0</td>\n",
       "      <td>0</td>\n",
       "      <td>0</td>\n",
       "      <td>0</td>\n",
       "      <td>0</td>\n",
       "      <td>0</td>\n",
       "      <td>0</td>\n",
       "      <td>...</td>\n",
       "      <td>0</td>\n",
       "      <td>0</td>\n",
       "      <td>0</td>\n",
       "      <td>0</td>\n",
       "      <td>0</td>\n",
       "      <td>0</td>\n",
       "      <td>0</td>\n",
       "      <td>0</td>\n",
       "      <td>0</td>\n",
       "      <td>0</td>\n",
       "    </tr>\n",
       "    <tr>\n",
       "      <th>2</th>\n",
       "      <td>0</td>\n",
       "      <td>0</td>\n",
       "      <td>0</td>\n",
       "      <td>0</td>\n",
       "      <td>0</td>\n",
       "      <td>0</td>\n",
       "      <td>0</td>\n",
       "      <td>0</td>\n",
       "      <td>0</td>\n",
       "      <td>0</td>\n",
       "      <td>...</td>\n",
       "      <td>0</td>\n",
       "      <td>0</td>\n",
       "      <td>0</td>\n",
       "      <td>0</td>\n",
       "      <td>0</td>\n",
       "      <td>0</td>\n",
       "      <td>0</td>\n",
       "      <td>0</td>\n",
       "      <td>0</td>\n",
       "      <td>0</td>\n",
       "    </tr>\n",
       "    <tr>\n",
       "      <th>3</th>\n",
       "      <td>0</td>\n",
       "      <td>0</td>\n",
       "      <td>0</td>\n",
       "      <td>0</td>\n",
       "      <td>0</td>\n",
       "      <td>0</td>\n",
       "      <td>0</td>\n",
       "      <td>0</td>\n",
       "      <td>0</td>\n",
       "      <td>0</td>\n",
       "      <td>...</td>\n",
       "      <td>0</td>\n",
       "      <td>0</td>\n",
       "      <td>0</td>\n",
       "      <td>0</td>\n",
       "      <td>0</td>\n",
       "      <td>0</td>\n",
       "      <td>0</td>\n",
       "      <td>0</td>\n",
       "      <td>0</td>\n",
       "      <td>0</td>\n",
       "    </tr>\n",
       "    <tr>\n",
       "      <th>4</th>\n",
       "      <td>0</td>\n",
       "      <td>0</td>\n",
       "      <td>0</td>\n",
       "      <td>0</td>\n",
       "      <td>0</td>\n",
       "      <td>0</td>\n",
       "      <td>0</td>\n",
       "      <td>0</td>\n",
       "      <td>0</td>\n",
       "      <td>0</td>\n",
       "      <td>...</td>\n",
       "      <td>0</td>\n",
       "      <td>0</td>\n",
       "      <td>0</td>\n",
       "      <td>0</td>\n",
       "      <td>0</td>\n",
       "      <td>0</td>\n",
       "      <td>0</td>\n",
       "      <td>0</td>\n",
       "      <td>0</td>\n",
       "      <td>0</td>\n",
       "    </tr>\n",
       "  </tbody>\n",
       "</table>\n",
       "<p>5 rows × 108 columns</p>\n",
       "</div>"
      ],
      "text/plain": [
       "   r1_hero_1  r1_hero_2  r1_hero_3  r1_hero_4  r1_hero_5  r1_hero_6  \\\n",
       "0          0          0          0          0          0          0   \n",
       "1          0          0          0          0          0          0   \n",
       "2          0          0          0          0          0          0   \n",
       "3          0          0          0          0          0          0   \n",
       "4          0          0          0          0          0          0   \n",
       "\n",
       "   r1_hero_7  r1_hero_8  r1_hero_9  r1_hero_10  ...  r1_hero_100  r1_hero_101  \\\n",
       "0          0          0          0           0  ...            0            0   \n",
       "1          0          0          0           0  ...            0            0   \n",
       "2          0          0          0           0  ...            0            0   \n",
       "3          0          0          0           0  ...            0            0   \n",
       "4          0          0          0           0  ...            0            0   \n",
       "\n",
       "   r1_hero_102  r1_hero_103  r1_hero_104  r1_hero_105  r1_hero_106  \\\n",
       "0            0            0            0            0            0   \n",
       "1            0            0            0            0            0   \n",
       "2            0            0            0            0            0   \n",
       "3            0            0            0            0            0   \n",
       "4            0            0            0            0            0   \n",
       "\n",
       "   r1_hero_109  r1_hero_110  r1_hero_112  \n",
       "0            0            0            0  \n",
       "1            0            0            0  \n",
       "2            0            0            0  \n",
       "3            0            0            0  \n",
       "4            0            0            0  \n",
       "\n",
       "[5 rows x 108 columns]"
      ]
     },
     "execution_count": 5,
     "metadata": {},
     "output_type": "execute_result"
    }
   ],
   "source": [
    "# для примера, как выглядит результат преобразования выбора первого игрока героя в каждой игре\n",
    "# r1-5 номер игрока команды r, hero_1-112 id героя, 1 или 0 выбрвн данный герой, этим игроком или нет\n",
    "r1_hero.head()"
   ]
  },
  {
   "cell_type": "code",
   "execution_count": 13,
   "metadata": {},
   "outputs": [],
   "source": [
    "# приклеиваем новые подмассивы\n",
    "df_features_classifier = pd.concat([df_features, r1_hero, r2_hero, r3_hero, r4_hero, r5_hero, d1_hero, d2_hero, d3_hero, d4_hero, d5_hero], axis=1).copy()"
   ]
  },
  {
   "cell_type": "code",
   "execution_count": 14,
   "metadata": {},
   "outputs": [],
   "source": [
    "# удаляем исходные столбцы\n",
    "df_features_classifier.drop(['r1_hero', 'r2_hero', 'r3_hero', 'r4_hero', 'r5_hero', 'd1_hero', 'd2_hero', \n",
    "                   'd3_hero', 'd4_hero', 'd5_hero'], axis = 1, inplace=True)"
   ]
  },
  {
   "cell_type": "code",
   "execution_count": 15,
   "metadata": {},
   "outputs": [],
   "source": [
    "# аналогичное преобразование для признака lobby_type\n",
    "lobby_type = pd.get_dummies(df_features_classifier['lobby_type'])\n",
    "lobby_type.columns = ['lobby_type_' + str(name) for name in lobby_type.columns ]\n",
    "df_features_classifier = pd.concat([df_features_classifier, lobby_type], axis=1)\n",
    "df_features_classifier.drop(['lobby_type'], axis = 1, inplace=True)"
   ]
  },
  {
   "cell_type": "code",
   "execution_count": 8,
   "metadata": {},
   "outputs": [],
   "source": [
    "missing_data = df_features_classifier.isnull()"
   ]
  },
  {
   "cell_type": "code",
   "execution_count": 9,
   "metadata": {},
   "outputs": [
    {
     "name": "stdout",
     "output_type": "stream",
     "text": [
      "first_blood_time\n",
      "False    77677\n",
      "True     19553\n",
      "Name: first_blood_time, dtype: int64\n",
      "\n",
      "first_blood_team\n",
      "False    77677\n",
      "True     19553\n",
      "Name: first_blood_team, dtype: int64\n",
      "\n",
      "first_blood_player1\n",
      "False    77677\n",
      "True     19553\n",
      "Name: first_blood_player1, dtype: int64\n",
      "\n",
      "first_blood_player2\n",
      "False    53243\n",
      "True     43987\n",
      "Name: first_blood_player2, dtype: int64\n",
      "\n",
      "radiant_bottle_time\n",
      "False    81539\n",
      "True     15691\n",
      "Name: radiant_bottle_time, dtype: int64\n",
      "\n",
      "radiant_courier_time\n",
      "False    96538\n",
      "True       692\n",
      "Name: radiant_courier_time, dtype: int64\n",
      "\n",
      "radiant_flying_courier_time\n",
      "False    69751\n",
      "True     27479\n",
      "Name: radiant_flying_courier_time, dtype: int64\n",
      "\n",
      "radiant_first_ward_time\n",
      "False    95394\n",
      "True      1836\n",
      "Name: radiant_first_ward_time, dtype: int64\n",
      "\n",
      "dire_bottle_time\n",
      "False    81087\n",
      "True     16143\n",
      "Name: dire_bottle_time, dtype: int64\n",
      "\n",
      "dire_courier_time\n",
      "False    96554\n",
      "True       676\n",
      "Name: dire_courier_time, dtype: int64\n",
      "\n",
      "dire_flying_courier_time\n",
      "False    71132\n",
      "True     26098\n",
      "Name: dire_flying_courier_time, dtype: int64\n",
      "\n",
      "dire_first_ward_time\n",
      "False    95404\n",
      "True      1826\n",
      "Name: dire_first_ward_time, dtype: int64\n",
      "\n"
     ]
    }
   ],
   "source": [
    "# проверка наличия NaN в определенных столбцах\n",
    "for column in missing_data.columns.values.tolist():\n",
    "    if True in missing_data[column].value_counts():\n",
    "        print(column)\n",
    "        print (missing_data[column].value_counts())\n",
    "        print(\"\")"
   ]
  },
  {
   "cell_type": "code",
   "execution_count": 10,
   "metadata": {},
   "outputs": [],
   "source": [
    "# удаление признаков с результатами игры\n",
    "df_features_classifier.drop(['match_id', 'start_time', 'duration', 'tower_status_radiant', 'tower_status_dire', \n",
    "                  'barracks_status_radiant', 'barracks_status_dire'], axis = 1, inplace=True)"
   ]
  },
  {
   "cell_type": "code",
   "execution_count": 11,
   "metadata": {},
   "outputs": [],
   "source": [
    "# замена NaN\n",
    "df_features_classifier['first_blood_time'].fillna(500, inplace = True) #событие не произошло в первые пять/300 минут/секунд (заменяем на 500секун)\n",
    "df_features_classifier['dire_first_ward_time'].fillna(500, inplace = True)  #событие не произошло в первые пять/300 минут/секунд (заменяем на 500секун)\n",
    "df_features_classifier['dire_flying_courier_time'].fillna(500, inplace = True)  #событие не произошло в первые пять/300 минут/секунд (заменяем на 500секун)\n",
    "df_features_classifier['dire_bottle_time'].fillna(500, inplace = True)  #событие не произошло в первые пять/300 минут/секунд (заменяем на 500секун)\n",
    "df_features_classifier['radiant_first_ward_time'].fillna(500, inplace = True)  #событие не произошло в первые пять/300 минут/секунд (заменяем на 500секун)\n",
    "df_features_classifier['radiant_flying_courier_time'].fillna(500, inplace = True)  #событие не произошло в первые пять/300 минут/секунд (заменяем на 500секун)\n",
    "df_features_classifier['radiant_courier_time'].fillna(500, inplace = True)  #событие не произошло в первые пять/300 минут/секунд (заменяем на 500секун)\n",
    "df_features_classifier['radiant_bottle_time'].fillna(500, inplace = True)  #событие не произошло в первые пять/300 минут/секунд (заменяем на 500секун)\n",
    "df_features_classifier['dire_courier_time'].fillna(500, inplace = True)  #событие не произошло в первые пять/300 минут/секунд (заменяем на 500секун)\n",
    "df_features_classifier['first_blood_player2'].fillna(20, inplace = True) # заменяем на номер несуществуещего игрока (всего 10)\n",
    "df_features_classifier['first_blood_player1'].fillna(20, inplace = True) # заменяем на номер несуществуещего игрока (всего 10)\n",
    "df_features_classifier['first_blood_time'].fillna(500, inplace = True) #событие не произошло в первые пять/300 минут/секунд (заменяем на 500секун)\n",
    "df_features_classifier['first_blood_team'].fillna(5, inplace = True) # если событие произошло 0 или 1, если нет заменяем на 5"
   ]
  },
  {
   "cell_type": "code",
   "execution_count": 12,
   "metadata": {},
   "outputs": [],
   "source": [
    "# контрольная проверка на наличие NaN\n",
    "missing_data = df_features_classifier.isnull()\n",
    "for column in missing_data.columns.values.tolist():\n",
    "    if True in missing_data[column].value_counts():\n",
    "        print(column)\n",
    "        print (missing_data[column].value_counts())\n",
    "        print(\"\")"
   ]
  },
  {
   "cell_type": "code",
   "execution_count": 13,
   "metadata": {},
   "outputs": [],
   "source": [
    "y = df_features_classifier['radiant_win'].values"
   ]
  },
  {
   "cell_type": "code",
   "execution_count": 14,
   "metadata": {},
   "outputs": [],
   "source": [
    "X = df_features_classifier.drop('radiant_win', axis = 1).values"
   ]
  },
  {
   "cell_type": "code",
   "execution_count": 15,
   "metadata": {},
   "outputs": [],
   "source": [
    "kf = KFold(n_splits=5, random_state=42, shuffle=True)"
   ]
  },
  {
   "cell_type": "code",
   "execution_count": 16,
   "metadata": {},
   "outputs": [],
   "source": [
    "train, test = zip(*kf.split(X))"
   ]
  },
  {
   "cell_type": "code",
   "execution_count": 19,
   "metadata": {},
   "outputs": [],
   "source": [
    "#оценка на кросс-валидации\n",
    "%%time\n",
    "results = []\n",
    "\n",
    "clf = GradientBoostingClassifier(n_estimators = 10)\n",
    "clf.fit(X,y)\n",
    "result = cross_val_score(clf, X, y, cv=kf)"
   ]
  },
  {
   "cell_type": "code",
   "execution_count": 17,
   "metadata": {},
   "outputs": [
    {
     "name": "stdout",
     "output_type": "stream",
     "text": [
      "CPU times: user 20min 37s, sys: 11.9 s, total: 20min 49s\n",
      "Wall time: 20min 50s\n"
     ]
    }
   ],
   "source": [
    "# обучение модели на кросс-валидации с метрикой roc_auc_score\n",
    "%%time\n",
    "acaccuracy = np.empty([5,1])\n",
    "\n",
    "for train_index, test_index, i in zip(train,test,range(5)):\n",
    "    X_train = X[train_index]\n",
    "    y_train = y[train_index]\n",
    "    X_test = X[test_index]\n",
    "    y_test = y[test_index]\n",
    "    clf = GradientBoostingClassifier(n_estimators = 30).fit(X_train, y_train)\n",
    "    y_predict_proba = clf.predict_proba(X_test)\n",
    "    acaccuracy[i] = roc_auc_score(y_test,  y_predict_proba[:, 1])"
   ]
  },
  {
   "cell_type": "code",
   "execution_count": 18,
   "metadata": {},
   "outputs": [
    {
     "name": "stdout",
     "output_type": "stream",
     "text": [
      "roc_auc_score:  0.6896764188466291\n"
     ]
    }
   ],
   "source": [
    "print('roc_auc_score: ', np.mean(acaccuracy))"
   ]
  },
  {
   "cell_type": "markdown",
   "metadata": {},
   "source": [
    "# Подготовка данных для логистической регрессии"
   ]
  },
  {
   "cell_type": "markdown",
   "metadata": {},
   "source": [
    "### Преобразование категорийных признаков"
   ]
  },
  {
   "cell_type": "code",
   "execution_count": 6,
   "metadata": {},
   "outputs": [],
   "source": [
    "# Домнажаем на -1 выбор героев игроками команды d\n",
    "# Таким образом выбор героя командой r: 1, выбор героя командой d: -1\n",
    "d1_hero=d1_hero*(-1)\n",
    "d2_hero=d2_hero*(-1)\n",
    "d3_hero=d3_hero*(-1)\n",
    "d4_hero=d4_hero*(-1)\n",
    "d5_hero=d5_hero*(-1)"
   ]
  },
  {
   "cell_type": "code",
   "execution_count": 7,
   "metadata": {},
   "outputs": [],
   "source": [
    "# Складываем выборы всех игроков двух команд, чтобы получить единую матрицу, где выбор героя командой r: 1, выбор героя командой d: -1\n",
    "hero = r1_hero.values+r2_hero.values+r3_hero.values+r4_hero.values+r5_hero.values+d1_hero.values+d2_hero.values+d3_hero.values+d4_hero.values+d5_hero.values"
   ]
  },
  {
   "cell_type": "code",
   "execution_count": 8,
   "metadata": {},
   "outputs": [],
   "source": [
    "# имена столбцов для нового подмассива выбора игроков, не все id героев существуют, например нет 108, 106\n",
    "hero_columns = [name for name in pd.get_dummies(df_features['r1_hero']).columns]"
   ]
  },
  {
   "cell_type": "code",
   "execution_count": 9,
   "metadata": {},
   "outputs": [
    {
     "data": {
      "text/html": [
       "<div>\n",
       "<style scoped>\n",
       "    .dataframe tbody tr th:only-of-type {\n",
       "        vertical-align: middle;\n",
       "    }\n",
       "\n",
       "    .dataframe tbody tr th {\n",
       "        vertical-align: top;\n",
       "    }\n",
       "\n",
       "    .dataframe thead th {\n",
       "        text-align: right;\n",
       "    }\n",
       "</style>\n",
       "<table border=\"1\" class=\"dataframe\">\n",
       "  <thead>\n",
       "    <tr style=\"text-align: right;\">\n",
       "      <th></th>\n",
       "      <th>1</th>\n",
       "      <th>2</th>\n",
       "      <th>3</th>\n",
       "      <th>4</th>\n",
       "      <th>5</th>\n",
       "      <th>6</th>\n",
       "      <th>7</th>\n",
       "      <th>8</th>\n",
       "      <th>9</th>\n",
       "      <th>10</th>\n",
       "      <th>...</th>\n",
       "      <th>100</th>\n",
       "      <th>101</th>\n",
       "      <th>102</th>\n",
       "      <th>103</th>\n",
       "      <th>104</th>\n",
       "      <th>105</th>\n",
       "      <th>106</th>\n",
       "      <th>109</th>\n",
       "      <th>110</th>\n",
       "      <th>112</th>\n",
       "    </tr>\n",
       "  </thead>\n",
       "  <tbody>\n",
       "    <tr>\n",
       "      <th>0</th>\n",
       "      <td>0</td>\n",
       "      <td>0</td>\n",
       "      <td>0</td>\n",
       "      <td>-1</td>\n",
       "      <td>0</td>\n",
       "      <td>0</td>\n",
       "      <td>0</td>\n",
       "      <td>0</td>\n",
       "      <td>0</td>\n",
       "      <td>0</td>\n",
       "      <td>...</td>\n",
       "      <td>0</td>\n",
       "      <td>0</td>\n",
       "      <td>0</td>\n",
       "      <td>0</td>\n",
       "      <td>0</td>\n",
       "      <td>1</td>\n",
       "      <td>0</td>\n",
       "      <td>0</td>\n",
       "      <td>0</td>\n",
       "      <td>0</td>\n",
       "    </tr>\n",
       "    <tr>\n",
       "      <th>1</th>\n",
       "      <td>0</td>\n",
       "      <td>0</td>\n",
       "      <td>0</td>\n",
       "      <td>0</td>\n",
       "      <td>0</td>\n",
       "      <td>0</td>\n",
       "      <td>-1</td>\n",
       "      <td>0</td>\n",
       "      <td>0</td>\n",
       "      <td>0</td>\n",
       "      <td>...</td>\n",
       "      <td>0</td>\n",
       "      <td>0</td>\n",
       "      <td>0</td>\n",
       "      <td>0</td>\n",
       "      <td>0</td>\n",
       "      <td>0</td>\n",
       "      <td>0</td>\n",
       "      <td>0</td>\n",
       "      <td>0</td>\n",
       "      <td>0</td>\n",
       "    </tr>\n",
       "    <tr>\n",
       "      <th>2</th>\n",
       "      <td>0</td>\n",
       "      <td>0</td>\n",
       "      <td>0</td>\n",
       "      <td>1</td>\n",
       "      <td>0</td>\n",
       "      <td>0</td>\n",
       "      <td>0</td>\n",
       "      <td>0</td>\n",
       "      <td>0</td>\n",
       "      <td>0</td>\n",
       "      <td>...</td>\n",
       "      <td>0</td>\n",
       "      <td>0</td>\n",
       "      <td>0</td>\n",
       "      <td>0</td>\n",
       "      <td>0</td>\n",
       "      <td>0</td>\n",
       "      <td>0</td>\n",
       "      <td>0</td>\n",
       "      <td>0</td>\n",
       "      <td>0</td>\n",
       "    </tr>\n",
       "    <tr>\n",
       "      <th>3</th>\n",
       "      <td>0</td>\n",
       "      <td>0</td>\n",
       "      <td>0</td>\n",
       "      <td>0</td>\n",
       "      <td>0</td>\n",
       "      <td>0</td>\n",
       "      <td>0</td>\n",
       "      <td>0</td>\n",
       "      <td>0</td>\n",
       "      <td>0</td>\n",
       "      <td>...</td>\n",
       "      <td>0</td>\n",
       "      <td>0</td>\n",
       "      <td>-1</td>\n",
       "      <td>0</td>\n",
       "      <td>0</td>\n",
       "      <td>0</td>\n",
       "      <td>0</td>\n",
       "      <td>0</td>\n",
       "      <td>0</td>\n",
       "      <td>0</td>\n",
       "    </tr>\n",
       "    <tr>\n",
       "      <th>4</th>\n",
       "      <td>0</td>\n",
       "      <td>0</td>\n",
       "      <td>0</td>\n",
       "      <td>0</td>\n",
       "      <td>0</td>\n",
       "      <td>0</td>\n",
       "      <td>0</td>\n",
       "      <td>-1</td>\n",
       "      <td>0</td>\n",
       "      <td>0</td>\n",
       "      <td>...</td>\n",
       "      <td>0</td>\n",
       "      <td>0</td>\n",
       "      <td>0</td>\n",
       "      <td>0</td>\n",
       "      <td>0</td>\n",
       "      <td>0</td>\n",
       "      <td>0</td>\n",
       "      <td>0</td>\n",
       "      <td>0</td>\n",
       "      <td>0</td>\n",
       "    </tr>\n",
       "  </tbody>\n",
       "</table>\n",
       "<p>5 rows × 108 columns</p>\n",
       "</div>"
      ],
      "text/plain": [
       "   1    2    3    4    5    6    7    8    9    10   ...  100  101  102  103  \\\n",
       "0    0    0    0   -1    0    0    0    0    0    0  ...    0    0    0    0   \n",
       "1    0    0    0    0    0    0   -1    0    0    0  ...    0    0    0    0   \n",
       "2    0    0    0    1    0    0    0    0    0    0  ...    0    0    0    0   \n",
       "3    0    0    0    0    0    0    0    0    0    0  ...    0    0   -1    0   \n",
       "4    0    0    0    0    0    0    0   -1    0    0  ...    0    0    0    0   \n",
       "\n",
       "   104  105  106  109  110  112  \n",
       "0    0    1    0    0    0    0  \n",
       "1    0    0    0    0    0    0  \n",
       "2    0    0    0    0    0    0  \n",
       "3    0    0    0    0    0    0  \n",
       "4    0    0    0    0    0    0  \n",
       "\n",
       "[5 rows x 108 columns]"
      ]
     },
     "execution_count": 9,
     "metadata": {},
     "output_type": "execute_result"
    }
   ],
   "source": [
    "hero_df = pd.DataFrame(hero, columns = hero_columns)\n",
    "hero_df.head()"
   ]
  },
  {
   "cell_type": "code",
   "execution_count": 10,
   "metadata": {},
   "outputs": [],
   "source": [
    "df_features_logreg = df_features.drop(['r1_hero', 'r2_hero', 'r3_hero', 'r4_hero', 'r5_hero', 'd1_hero', 'd2_hero', \n",
    "                   'd3_hero', 'd4_hero', 'd5_hero', 'match_id', 'start_time', 'duration', 'tower_status_radiant', 'tower_status_dire', \n",
    "                  'barracks_status_radiant', 'barracks_status_dire', 'lobby_type'], axis = 1).copy()"
   ]
  },
  {
   "cell_type": "code",
   "execution_count": 16,
   "metadata": {},
   "outputs": [],
   "source": [
    "df_features_logreg = pd.concat([df_features_logreg, hero_df, lobby_type], axis=1)"
   ]
  },
  {
   "cell_type": "code",
   "execution_count": 17,
   "metadata": {},
   "outputs": [],
   "source": [
    "# здесь заполняем NaN нулями, т.к. тогда пропущенные признаки не будут влиять на построение модели логистической регрессии\n",
    "df_features_logreg['first_blood_time'].fillna(0, inplace = True)\n",
    "df_features_logreg['dire_first_ward_time'].fillna(0, inplace = True)\n",
    "df_features_logreg['dire_flying_courier_time'].fillna(0, inplace = True)\n",
    "df_features_logreg['dire_bottle_time'].fillna(0, inplace = True)\n",
    "df_features_logreg['radiant_first_ward_time'].fillna(0, inplace = True)\n",
    "df_features_logreg['radiant_flying_courier_time'].fillna(0, inplace = True)\n",
    "df_features_logreg['radiant_courier_time'].fillna(0, inplace = True)\n",
    "df_features_logreg['radiant_bottle_time'].fillna(0, inplace = True)\n",
    "df_features_logreg['dire_courier_time'].fillna(0, inplace = True)\n",
    "df_features_logreg['first_blood_player2'].fillna(0, inplace = True)\n",
    "df_features_logreg['first_blood_player1'].fillna(0, inplace = True)\n",
    "df_features_logreg['first_blood_time'].fillna(0, inplace = True)\n",
    "df_features_logreg['first_blood_team'].fillna(0, inplace = True)"
   ]
  },
  {
   "cell_type": "code",
   "execution_count": 18,
   "metadata": {},
   "outputs": [],
   "source": [
    "y_logreg = df_features_logreg['radiant_win'].values"
   ]
  },
  {
   "cell_type": "code",
   "execution_count": 19,
   "metadata": {},
   "outputs": [],
   "source": [
    "X_logreg = df_features_logreg.drop('radiant_win', axis = 1).values"
   ]
  },
  {
   "cell_type": "code",
   "execution_count": 20,
   "metadata": {},
   "outputs": [],
   "source": [
    "X_logreg = normalize(X_logreg)"
   ]
  },
  {
   "cell_type": "code",
   "execution_count": 21,
   "metadata": {},
   "outputs": [
    {
     "name": "stdout",
     "output_type": "stream",
     "text": [
      "CPU times: user 8min 37s, sys: 12min 37s, total: 21min 14s\n",
      "Wall time: 5min 27s\n"
     ]
    },
    {
     "data": {
      "text/plain": [
       "GridSearchCV(cv=KFold(n_splits=5, random_state=42, shuffle=True),\n",
       "       error_score='raise-deprecating',\n",
       "       estimator=LogisticRegression(C=1.0, class_weight=None, dual=False, fit_intercept=True,\n",
       "          intercept_scaling=1, max_iter=1000, multi_class='warn',\n",
       "          n_jobs=None, penalty='l2', random_state=42, solver='lbfgs',\n",
       "          tol=0.0001, verbose=0, warm_start=False),\n",
       "       fit_params=None, iid='warn', n_jobs=None,\n",
       "       param_grid={'C': [0.1, 0.5, 1.5, 2]}, pre_dispatch='2*n_jobs',\n",
       "       refit=True, return_train_score='warn', scoring='roc_auc', verbose=0)"
      ]
     },
     "execution_count": 21,
     "metadata": {},
     "output_type": "execute_result"
    }
   ],
   "source": [
    "%%time\n",
    "# подбор лучшего параметра С для модели logreg\n",
    "grid = {'C': [0.1, 0.5, 1.5, 2]} # задаем С \n",
    "cv = KFold(n_splits=5, shuffle=True, random_state=42) # объект разбивающий тренировочные данные на 5 частей для кросс валидации\n",
    "logreg = LogisticRegression(solver='lbfgs',max_iter=1000, random_state=42) # непосредственно классификатор\n",
    "gs = GridSearchCV(logreg, grid, scoring='roc_auc', cv=cv) # объект подбирающий лучшее С для классификатора метрика точность кросс валидация\n",
    "gs.fit(X_logreg, y_logreg) #тренируем"
   ]
  },
  {
   "cell_type": "code",
   "execution_count": 22,
   "metadata": {},
   "outputs": [
    {
     "name": "stdout",
     "output_type": "stream",
     "text": [
      "roc_auc_score:  0.712638676998325\n"
     ]
    }
   ],
   "source": [
    "print('roc_auc_score: ', gs.best_score_)\n",
    "log_reg = gs.best_estimator_"
   ]
  },
  {
   "cell_type": "markdown",
   "metadata": {},
   "source": [
    "### Удаление категорийных признаков"
   ]
  },
  {
   "cell_type": "code",
   "execution_count": 127,
   "metadata": {},
   "outputs": [],
   "source": [
    "df_features_logreg_noncategory = df_features.drop(['r1_hero', 'r2_hero', 'r3_hero', 'r4_hero', 'r5_hero', 'd1_hero', 'd2_hero', \n",
    "                   'd3_hero', 'd4_hero', 'd5_hero', 'match_id', 'start_time', 'duration', 'tower_status_radiant', 'tower_status_dire', \n",
    "                  'barracks_status_radiant', 'barracks_status_dire', 'lobby_type'], axis = 1).copy()"
   ]
  },
  {
   "cell_type": "code",
   "execution_count": 134,
   "metadata": {},
   "outputs": [],
   "source": [
    "df_features_logreg_noncategory['first_blood_time'].fillna(0, inplace = True)\n",
    "df_features_logreg_noncategory['dire_first_ward_time'].fillna(0, inplace = True)\n",
    "df_features_logreg_noncategory['dire_flying_courier_time'].fillna(0, inplace = True)\n",
    "df_features_logreg_noncategory['dire_bottle_time'].fillna(0, inplace = True)\n",
    "df_features_logreg_noncategory['radiant_first_ward_time'].fillna(0, inplace = True)\n",
    "df_features_logreg_noncategory['radiant_flying_courier_time'].fillna(0, inplace = True)\n",
    "df_features_logreg_noncategory['radiant_courier_time'].fillna(0, inplace = True)\n",
    "df_features_logreg_noncategory['radiant_bottle_time'].fillna(0, inplace = True)\n",
    "df_features_logreg_noncategory['dire_courier_time'].fillna(0, inplace = True)\n",
    "df_features_logreg_noncategory['first_blood_player2'].fillna(0, inplace = True)\n",
    "df_features_logreg_noncategory['first_blood_player1'].fillna(0, inplace = True)\n",
    "df_features_logreg_noncategory['first_blood_time'].fillna(0, inplace = True)\n",
    "df_features_logreg_noncategory['first_blood_team'].fillna(0, inplace = True)"
   ]
  },
  {
   "cell_type": "code",
   "execution_count": 141,
   "metadata": {},
   "outputs": [],
   "source": [
    "y_noncategory = df_features_logreg_noncategory['radiant_win'].values\n",
    "X_noncategory = df_features_logreg_noncategory.drop('radiant_win', axis = 1).values"
   ]
  },
  {
   "cell_type": "code",
   "execution_count": 143,
   "metadata": {},
   "outputs": [],
   "source": [
    "X_noncategory = normalize(X_noncategory)"
   ]
  },
  {
   "cell_type": "code",
   "execution_count": 144,
   "metadata": {},
   "outputs": [
    {
     "name": "stdout",
     "output_type": "stream",
     "text": [
      "CPU times: user 4min 16s, sys: 7min 24s, total: 11min 41s\n",
      "Wall time: 2min 59s\n"
     ]
    },
    {
     "data": {
      "text/plain": [
       "GridSearchCV(cv=KFold(n_splits=5, random_state=42, shuffle=True),\n",
       "       error_score='raise-deprecating',\n",
       "       estimator=LogisticRegression(C=1.0, class_weight=None, dual=False, fit_intercept=True,\n",
       "          intercept_scaling=1, max_iter=1000, multi_class='warn',\n",
       "          n_jobs=None, penalty='l2', random_state=42, solver='lbfgs',\n",
       "          tol=0.0001, verbose=0, warm_start=False),\n",
       "       fit_params=None, iid='warn', n_jobs=None,\n",
       "       param_grid={'C': [0.1, 0.5, 1.5, 2]}, pre_dispatch='2*n_jobs',\n",
       "       refit=True, return_train_score='warn', scoring='roc_auc', verbose=0)"
      ]
     },
     "execution_count": 144,
     "metadata": {},
     "output_type": "execute_result"
    }
   ],
   "source": [
    "%%time\n",
    "# подбор лучшего параметра С для модели logreg\n",
    "grid = {'C': [0.1, 0.5, 1.5, 2]} # задаем С \n",
    "cv = KFold(n_splits=5, shuffle=True, random_state=42) # объект разбивающий тренировочные данные на 5 частей для кросс валидации\n",
    "logreg = LogisticRegression(solver='lbfgs',max_iter=1000, random_state=42) # непосредственно классификатор\n",
    "gs = GridSearchCV(logreg, grid, scoring='roc_auc', cv=cv) # объект подбирающий лучшее С для классификатора метрика точность кросс валидация\n",
    "gs.fit(X_noncategory, y_noncategory) #тренируем"
   ]
  },
  {
   "cell_type": "code",
   "execution_count": 138,
   "metadata": {},
   "outputs": [
    {
     "name": "stdout",
     "output_type": "stream",
     "text": [
      "roc_auc_score:  0.7129436168463892\n"
     ]
    }
   ],
   "source": [
    "print('roc_auc_score: ', gs.best_score_)\n",
    "log_reg_noncategory = gs.best_estimator_"
   ]
  },
  {
   "cell_type": "markdown",
   "metadata": {},
   "source": [
    "### Построение модели со всеми признаками (без преобразования или удаления, категорийных признаков)"
   ]
  },
  {
   "cell_type": "code",
   "execution_count": 145,
   "metadata": {},
   "outputs": [],
   "source": [
    "df_features_logreg_all = df_features.drop(['r1_hero', 'r2_hero', 'r3_hero', 'r4_hero', 'r5_hero', 'd1_hero', 'd2_hero', \n",
    "                   'd3_hero', 'd4_hero', 'd5_hero', 'match_id', 'start_time', 'lobby_type'], axis = 1).copy()"
   ]
  },
  {
   "cell_type": "code",
   "execution_count": 147,
   "metadata": {},
   "outputs": [],
   "source": [
    "df_features_logreg_all['first_blood_time'].fillna(0, inplace = True)\n",
    "df_features_logreg_all['dire_first_ward_time'].fillna(0, inplace = True)\n",
    "df_features_logreg_all['dire_flying_courier_time'].fillna(0, inplace = True)\n",
    "df_features_logreg_all['dire_bottle_time'].fillna(0, inplace = True)\n",
    "df_features_logreg_all['radiant_first_ward_time'].fillna(0, inplace = True)\n",
    "df_features_logreg_all['radiant_flying_courier_time'].fillna(0, inplace = True)\n",
    "df_features_logreg_all['radiant_courier_time'].fillna(0, inplace = True)\n",
    "df_features_logreg_all['radiant_bottle_time'].fillna(0, inplace = True)\n",
    "df_features_logreg_all['dire_courier_time'].fillna(0, inplace = True)\n",
    "df_features_logreg_all['first_blood_player2'].fillna(0, inplace = True)\n",
    "df_features_logreg_all['first_blood_player1'].fillna(0, inplace = True)\n",
    "df_features_logreg_all['first_blood_time'].fillna(0, inplace = True)\n",
    "df_features_logreg_all['first_blood_team'].fillna(0, inplace = True)"
   ]
  },
  {
   "cell_type": "code",
   "execution_count": 148,
   "metadata": {},
   "outputs": [],
   "source": [
    "y_all = df_features_logreg_all['radiant_win'].values\n",
    "X_all = df_features_logreg_all.drop('radiant_win', axis = 1).values"
   ]
  },
  {
   "cell_type": "code",
   "execution_count": 149,
   "metadata": {},
   "outputs": [],
   "source": [
    "X_all = normalize(X_all)"
   ]
  },
  {
   "cell_type": "code",
   "execution_count": 150,
   "metadata": {},
   "outputs": [
    {
     "name": "stdout",
     "output_type": "stream",
     "text": [
      "CPU times: user 2min 33s, sys: 4min 12s, total: 6min 46s\n",
      "Wall time: 1min 45s\n"
     ]
    },
    {
     "data": {
      "text/plain": [
       "GridSearchCV(cv=KFold(n_splits=5, random_state=42, shuffle=True),\n",
       "       error_score='raise-deprecating',\n",
       "       estimator=LogisticRegression(C=1.0, class_weight=None, dual=False, fit_intercept=True,\n",
       "          intercept_scaling=1, max_iter=1000, multi_class='warn',\n",
       "          n_jobs=None, penalty='l2', random_state=42, solver='lbfgs',\n",
       "          tol=0.0001, verbose=0, warm_start=False),\n",
       "       fit_params=None, iid='warn', n_jobs=None,\n",
       "       param_grid={'C': [0.1, 0.5, 1.5, 2]}, pre_dispatch='2*n_jobs',\n",
       "       refit=True, return_train_score='warn', scoring='roc_auc', verbose=0)"
      ]
     },
     "execution_count": 150,
     "metadata": {},
     "output_type": "execute_result"
    }
   ],
   "source": [
    "%%time\n",
    "# подбор лучшего параметра С для модели logreg\n",
    "grid = {'C': [0.1, 0.5, 1.5, 2]} # задаем С \n",
    "cv = KFold(n_splits=5, shuffle=True, random_state=42) # объект разбивающий тренировочные данные на 5 частей для кросс валидации\n",
    "logreg = LogisticRegression(solver='lbfgs',max_iter=1000, random_state=42) # непосредственно классификатор\n",
    "gs = GridSearchCV(logreg, grid, scoring='roc_auc', cv=cv) # объект подбирающий лучшее С для классификатора метрика точность кросс валидация\n",
    "gs.fit(X_all, y_all) #тренируем"
   ]
  },
  {
   "cell_type": "code",
   "execution_count": 151,
   "metadata": {},
   "outputs": [
    {
     "name": "stdout",
     "output_type": "stream",
     "text": [
      "roc_auc_score:  0.995314740844149\n"
     ]
    }
   ],
   "source": [
    "print('roc_auc_score: ', gs.best_score_)\n",
    "log_reg_all = gs.best_estimator_"
   ]
  },
  {
   "cell_type": "markdown",
   "metadata": {},
   "source": [
    "### Преобразование тестовой выборки для предсказания"
   ]
  },
  {
   "cell_type": "code",
   "execution_count": 23,
   "metadata": {},
   "outputs": [],
   "source": [
    "r1_hero = pd.get_dummies(df_features_test['r1_hero'])\n",
    "r1_hero.columns = ['r1_hero_' + str(name) for name in r1_hero.columns ]\n",
    "r2_hero = pd.get_dummies(df_features_test['r2_hero'])\n",
    "r2_hero.columns = ['r2_hero_' + str(name) for name in r2_hero.columns ]\n",
    "r3_hero = pd.get_dummies(df_features_test['r3_hero'])\n",
    "r3_hero.columns = ['r3_hero_' + str(name) for name in r3_hero.columns ]\n",
    "r4_hero = pd.get_dummies(df_features_test['r4_hero'])\n",
    "r4_hero.columns = ['r4_hero_' + str(name) for name in r4_hero.columns ]\n",
    "r5_hero = pd.get_dummies(df_features_test['r5_hero'])\n",
    "r5_hero.columns = ['r5_hero_' + str(name) for name in r5_hero.columns ]\n",
    "d1_hero = pd.get_dummies(df_features_test['d1_hero'])\n",
    "d1_hero.columns = ['d1_hero_' + str(name) for name in d1_hero.columns ]\n",
    "d2_hero = pd.get_dummies(df_features_test['d2_hero'])\n",
    "d2_hero.columns = ['d2_hero_' + str(name) for name in d2_hero.columns ]\n",
    "d3_hero = pd.get_dummies(df_features_test['d3_hero'])\n",
    "d3_hero.columns = ['d3_hero_' + str(name) for name in d3_hero.columns ]\n",
    "d4_hero = pd.get_dummies(df_features_test['d4_hero'])\n",
    "d4_hero.columns = ['d4_hero_' + str(name) for name in d4_hero.columns ]\n",
    "d5_hero = pd.get_dummies(df_features_test['d5_hero'])\n",
    "d5_hero.columns = ['d5_hero_' + str(name) for name in d5_hero.columns ]\n",
    "lobby_type = pd.get_dummies(df_features_test['lobby_type'])\n",
    "lobby_type.columns = ['lobby_type_' + str(name) for name in lobby_type.columns ]"
   ]
  },
  {
   "cell_type": "code",
   "execution_count": 24,
   "metadata": {},
   "outputs": [
    {
     "data": {
      "text/plain": [
       "(17177, 108)"
      ]
     },
     "execution_count": 24,
     "metadata": {},
     "output_type": "execute_result"
    }
   ],
   "source": [
    "d1_hero.shape"
   ]
  },
  {
   "cell_type": "code",
   "execution_count": 25,
   "metadata": {},
   "outputs": [],
   "source": [
    "d1_hero=d1_hero*(-1)\n",
    "d2_hero=d2_hero*(-1)\n",
    "d3_hero=d3_hero*(-1)\n",
    "d4_hero=d4_hero*(-1)\n",
    "d5_hero=d5_hero*(-1)"
   ]
  },
  {
   "cell_type": "code",
   "execution_count": 26,
   "metadata": {},
   "outputs": [],
   "source": [
    "hero = r1_hero.values+r2_hero.values+r3_hero.values+r4_hero.values+r5_hero.values+d1_hero.values+d2_hero.values+d3_hero.values+d4_hero.values+d5_hero.values"
   ]
  },
  {
   "cell_type": "code",
   "execution_count": 27,
   "metadata": {},
   "outputs": [],
   "source": [
    "hero_columns = [name for name in pd.get_dummies(df_features_test['r1_hero']).columns]\n",
    "hero_df = pd.DataFrame(hero, columns = hero_columns)"
   ]
  },
  {
   "cell_type": "code",
   "execution_count": 28,
   "metadata": {},
   "outputs": [],
   "source": [
    "df_features_test = pd.concat([df_features_test, hero_df, lobby_type], axis=1).copy()"
   ]
  },
  {
   "cell_type": "code",
   "execution_count": 29,
   "metadata": {},
   "outputs": [],
   "source": [
    "df_features_test.drop(['r1_hero', 'r2_hero', 'r3_hero', 'r4_hero', 'r5_hero', 'd1_hero', 'd2_hero', \n",
    "                   'd3_hero', 'd4_hero', 'd5_hero', 'match_id', 'start_time', 'lobby_type'], axis = 1, inplace=True)"
   ]
  },
  {
   "cell_type": "code",
   "execution_count": 31,
   "metadata": {},
   "outputs": [],
   "source": [
    "X_test = df_features_test.values\n",
    "X_test = normalize(X_test)"
   ]
  },
  {
   "cell_type": "code",
   "execution_count": 32,
   "metadata": {},
   "outputs": [],
   "source": [
    "y_predict = log_reg.predict_proba(X_test)"
   ]
  },
  {
   "cell_type": "code",
   "execution_count": 35,
   "metadata": {},
   "outputs": [
    {
     "name": "stdout",
     "output_type": "stream",
     "text": [
      "максимальная вероятность предсказания победы составила:  0.9911774789592208 \n",
      " минимальная вероятность предсказания победы составила:  0.02316872622409194\n"
     ]
    }
   ],
   "source": [
    "print('максимальная вероятность предсказания победы составила: ', np.max(y_predict[:, :1]), '\\n',\n",
    "      'минимальная вероятность предсказания победы составила: ', np.min(y_predict[:, :1]))"
   ]
  }
 ],
 "metadata": {
  "kernelspec": {
   "display_name": "Python",
   "language": "python",
   "name": "conda-env-python-py"
  },
  "language_info": {
   "codemirror_mode": {
    "name": "ipython",
    "version": 3
   },
   "file_extension": ".py",
   "mimetype": "text/x-python",
   "name": "python",
   "nbconvert_exporter": "python",
   "pygments_lexer": "ipython3",
   "version": "3.6.10"
  }
 },
 "nbformat": 4,
 "nbformat_minor": 4
}
